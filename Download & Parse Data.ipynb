{
 "cells": [
  {
   "cell_type": "code",
   "execution_count": 1,
   "metadata": {},
   "outputs": [],
   "source": [
    "import os\n",
    "import bs4\n",
    "import bz2\n",
    "import tqdm\n",
    "import wget\n",
    "import requests\n",
    "import subprocess\n",
    "import matplotlib.pyplot as plt\n",
    "from IPython.display import clear_output\n",
    "\n",
    "%matplotlib inline"
   ]
  },
  {
   "cell_type": "code",
   "execution_count": 2,
   "metadata": {},
   "outputs": [
    {
     "data": {
      "text/plain": [
       "['../',\n",
       " '20200220/',\n",
       " '20200301/',\n",
       " '20200401/',\n",
       " '20200420/',\n",
       " '20200501/',\n",
       " '20200520/',\n",
       " '20200601/',\n",
       " 'latest/']"
      ]
     },
     "execution_count": 2,
     "metadata": {},
     "output_type": "execute_result"
    }
   ],
   "source": [
    "base_url = 'https://dumps.wikimedia.org/enwiki/'\n",
    "index = requests.get(base_url).text\n",
    "soup_index = bs4.BeautifulSoup(index, 'html.parser')\n",
    "\n",
    "dumps = [a['href'] for a in soup_index.find_all('a') if \n",
    "         a.has_attr('href')]\n",
    "dumps"
   ]
  },
  {
   "cell_type": "code",
   "execution_count": 3,
   "metadata": {},
   "outputs": [
    {
     "name": "stdout",
     "output_type": "stream",
     "text": [
      "<!DOCTYPE html PUBLIC \"-//W3C//DTD XHTML 1.0 Strict//EN\"\n",
      "        \"http://www.w3.org/TR/xhtml1/DTD/xhtml1-strict.dtd\">\n",
      "\n",
      "<html xmlns=\"http://www.w3.org/1999/xhtml\" xml:lang=\"en\" lang=\"en\">\n",
      "<head>\n",
      "        <meta http-equiv=\"Content-Type\" content=\"text/html; charset=utf-8\"/>\n",
      "        <title>enwiki dump progress on 20200520</title>\n",
      "        <link rel=\"stylesheet\" type=\"text/css\" href=\"/dumps.css\" />\n",
      "        <style type=\"text/css\">\n",
      "                .siteinfo {\n",
      "                        text-align: center;\n",
      " \n"
     ]
    }
   ],
   "source": [
    "dump_url = base_url + '20200520/'\n",
    "\n",
    "# Retrieve the html\n",
    "dump_html = requests.get(dump_url).text\n",
    "print(dump_html[:500])"
   ]
  },
  {
   "cell_type": "code",
   "execution_count": 4,
   "metadata": {},
   "outputs": [
    {
     "data": {
      "text/plain": [
       "[('enwiki-20200520-pages-articles-multistream.xml.bz2', ['17.0', 'GB']),\n",
       " ('enwiki-20200520-pages-articles-multistream-index.txt.bz2', ['211.8', 'MB']),\n",
       " ('enwiki-20200520-pages-articles-multistream1.xml-p1p30303.bz2',\n",
       "  ['178.1', 'MB']),\n",
       " ('enwiki-20200520-pages-articles-multistream-index1.txt-p1p30303.bz2',\n",
       "  ['163', 'KB']),\n",
       " ('enwiki-20200520-pages-articles-multistream2.xml-p30304p88444.bz2',\n",
       "  ['211.9', 'MB'])]"
      ]
     },
     "execution_count": 4,
     "metadata": {},
     "output_type": "execute_result"
    }
   ],
   "source": [
    "soup_dump = bs4.BeautifulSoup(dump_html, 'html.parser')\n",
    "\n",
    "files = []\n",
    "for file in soup_dump.find_all('li', {'class': 'file'}):\n",
    "    text = file.text\n",
    "    if 'pages-articles' in text:\n",
    "        files.append((text.split()[0], text.split()[1:]))\n",
    "        \n",
    "files[:5]"
   ]
  },
  {
   "cell_type": "code",
   "execution_count": 5,
   "metadata": {},
   "outputs": [
    {
     "data": {
      "text/plain": [
       "(118,\n",
       " ['enwiki-20200520-pages-articles27.xml-p57663462p59163461.bz2',\n",
       "  'enwiki-20200520-pages-articles27.xml-p59163462p60663461.bz2',\n",
       "  'enwiki-20200520-pages-articles27.xml-p60663462p62163461.bz2',\n",
       "  'enwiki-20200520-pages-articles27.xml-p62163462p63663461.bz2',\n",
       "  'enwiki-20200520-pages-articles27.xml-p63663462p64021337.bz2'])"
      ]
     },
     "execution_count": 5,
     "metadata": {},
     "output_type": "execute_result"
    }
   ],
   "source": [
    "files_to_download = [file[0] for file in files if '.xml-p' in file[0]]\n",
    "len(files_to_download), files_to_download[-5:]"
   ]
  },
  {
   "cell_type": "code",
   "execution_count": 10,
   "metadata": {},
   "outputs": [
    {
     "name": "stdout",
     "output_type": "stream",
     "text": [
      "File 118 / 118 ...\n",
      "\n",
      "100% [.......................................................] 80690052 / 80690052\n",
      "OK\n",
      "Wall time: 2h 14min 36s\n"
     ]
    }
   ],
   "source": [
    "%%time\n",
    "if not os.path.exists('./wikipedia'):\n",
    "    os.makedirs('./wikipedia')\n",
    "\n",
    "data_paths, file_info = [], []\n",
    "for i, file in enumerate(files_to_download):\n",
    "    clear_output(wait=True)\n",
    "    print(f'File {i + 1} / {len(files_to_download)} ...\\n')\n",
    "    path = os.path.join('./wikipedia', file)\n",
    "    if not os.path.exists(path):\n",
    "        _ = wget.download(os.path.join(dump_url, file), out=path)\n",
    "        data_paths.append(path)\n",
    "        file_size = os.stat(path).st_size / 1e6\n",
    "        file_articles = int(file.split('p')[-1].split('.')[-2]) - int(file.split('p')[-2])\n",
    "        file_info.append((file, file_size, file_articles))\n",
    "    else:\n",
    "        data_paths.append(path)\n",
    "        file_size = os.stat(path).st_size / 1e6\n",
    "        file_number = int(file.split('p')[-1].split('.')[-2]) - int(file.split('p')[-2])\n",
    "        file_info.append((file.split('-')[-1], file_size, file_number))\n",
    "    print('\\nOK')"
   ]
  },
  {
   "cell_type": "code",
   "execution_count": null,
   "metadata": {},
   "outputs": [],
   "source": []
  }
 ],
 "metadata": {
  "kernelspec": {
   "display_name": "Python 3",
   "language": "python",
   "name": "python3"
  },
  "language_info": {
   "codemirror_mode": {
    "name": "ipython",
    "version": 3
   },
   "file_extension": ".py",
   "mimetype": "text/x-python",
   "name": "python",
   "nbconvert_exporter": "python",
   "pygments_lexer": "ipython3",
   "version": "3.7.5"
  }
 },
 "nbformat": 4,
 "nbformat_minor": 4
}
